{
 "cells": [
  {
   "cell_type": "code",
   "execution_count": 1,
   "id": "c93d5e16-c5e7-4753-9334-2b5c535f27fa",
   "metadata": {},
   "outputs": [],
   "source": [
    "# I have no idea who is the author of the code\n",
    "# in this cell that saves an image from a webcam\n",
    "# inside google colab.\n",
    "# It comes from a notebook called \"📸 Take a photo with your webcam\"\n",
    "\n",
    "from IPython.display import HTML, Audio\n",
    "# from google.colab.output import eval_js\n",
    "from js2py import eval_js\n",
    "from base64 import b64decode\n",
    "import numpy as np\n",
    "import io\n",
    "from PIL import Image\n",
    "\n",
    "VIDEO_HTML = \"\"\"\n",
    "<video autoplay\n",
    " width=%d height=%d style='cursor: pointer;'></video>\n",
    "<script>\n",
    "\n",
    "var video = document.querySelector('video')\n",
    "\n",
    "navigator.mediaDevices.getUserMedia({ video: true })\n",
    "  .then(stream=> video.srcObject = stream)\n",
    "  \n",
    "var data = new Promise(resolve=>{\n",
    "  video.onclick = ()=>{\n",
    "    var canvas = document.createElement('canvas')\n",
    "    var [w,h] = [video.offsetWidth, video.offsetHeight]\n",
    "    canvas.width = w\n",
    "    canvas.height = h\n",
    "    canvas.getContext('2d')\n",
    "          .drawImage(video, 0, 0, w, h)\n",
    "    video.srcObject.getVideoTracks()[0].stop()\n",
    "    video.replaceWith(canvas)\n",
    "    resolve(canvas.toDataURL('image/jpeg', %f))\n",
    "  }\n",
    "})\n",
    "</script>\n",
    "\"\"\"\n",
    "def take_photo(filename='photo.jpg', quality=0.8, size=(800,600)):\n",
    "  display(HTML(VIDEO_HTML % (size[0],size[1],quality)))\n",
    "  data = eval_js(\"data\")\n",
    "  binary = b64decode(data.split(',')[1])\n",
    "  f = io.BytesIO(binary)\n",
    "  return np.asarray(Image.open(f))\n",
    "#   with open(filename, 'wb') as f:\n",
    "#     f.write(binary)\n",
    "#   return len(binary)"
   ]
  },
  {
   "cell_type": "code",
   "execution_count": 3,
   "id": "7533da46-7f0d-49f9-9907-845a619e77a2",
   "metadata": {},
   "outputs": [],
   "source": [
    "# take_photo()"
   ]
  },
  {
   "cell_type": "code",
   "execution_count": null,
   "id": "909dd040-9b0b-4d83-a603-44ff31dceb73",
   "metadata": {},
   "outputs": [],
   "source": []
  },
  {
   "cell_type": "code",
   "execution_count": null,
   "id": "986d22ce-269c-4271-a630-09b7cdad9b7e",
   "metadata": {},
   "outputs": [],
   "source": []
  },
  {
   "cell_type": "code",
   "execution_count": null,
   "id": "996e4b50-9d06-4984-9599-b3db501ac2bb",
   "metadata": {},
   "outputs": [],
   "source": []
  }
 ],
 "metadata": {
  "kernelspec": {
   "display_name": "Python 3",
   "language": "python",
   "name": "python3"
  },
  "language_info": {
   "codemirror_mode": {
    "name": "ipython",
    "version": 3
   },
   "file_extension": ".py",
   "mimetype": "text/x-python",
   "name": "python",
   "nbconvert_exporter": "python",
   "pygments_lexer": "ipython3",
   "version": "3.9.5"
  }
 },
 "nbformat": 4,
 "nbformat_minor": 5
}
